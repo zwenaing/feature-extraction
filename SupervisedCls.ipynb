{
 "cells": [
  {
   "cell_type": "code",
   "execution_count": 3,
   "metadata": {
    "collapsed": false
   },
   "outputs": [],
   "source": [
    "import numpy as np\n",
    "from scipy.io import loadmat\n",
    "from sklearn.linear_model import LogisticRegression\n",
    "from sklearn.tree import DecisionTreeClassifier\n",
    "from sklearn.model_selection import train_test_split\n",
    "#from sklearn.cross_validation import train_test_split\n",
    "from sklearn.datasets import fetch_20newsgroups\n",
    "from sklearn.feature_extraction.text import TfidfVectorizer\n",
    "from scipy.sparse import csr_matrix\n",
    "from scipy.misc import imshow\n",
    "from io import StringIO\n",
    "import pandas as pd\n",
    "import matplotlib.pyplot as plt\n",
    "%matplotlib inline"
   ]
  },
  {
   "cell_type": "markdown",
   "metadata": {},
   "source": [
    "#  PROBLEM 1"
   ]
  },
  {
   "cell_type": "markdown",
   "metadata": {},
   "source": [
    "## MNIST Dataset"
   ]
  },
  {
   "cell_type": "code",
   "execution_count": 4,
   "metadata": {
    "collapsed": false
   },
   "outputs": [],
   "source": [
    "mnist = loadmat('mnist-original.mat')\n",
    "mnist_X = np.transpose(mnist['data'])\n",
    "mnist_y = np.transpose(mnist['label'])\n",
    "mnist_train_X, mnist_test_X, mnist_train_y, mnist_test_y = train_test_split(mnist_X, mnist_y, stratify=mnist_y)"
   ]
  },
  {
   "cell_type": "markdown",
   "metadata": {},
   "source": [
    "Logistic Regression works better than Decision Tree on MNIST dataset since there is 91% accuracy using LR and 86% accuracy using DT. Trying different regularization parameters do not have much impact on the LR performance. However, using polynomial basis expansion functions might improve the performance."
   ]
  },
  {
   "cell_type": "markdown",
   "metadata": {},
   "source": [
    "### Logistic Regression"
   ]
  },
  {
   "cell_type": "code",
   "execution_count": 6,
   "metadata": {
    "collapsed": false,
    "scrolled": true
   },
   "outputs": [
    {
     "name": "stderr",
     "output_type": "stream",
     "text": [
      "/Users/ZweNaing/anaconda/lib/python3.6/site-packages/sklearn/linear_model/sag.py:326: ConvergenceWarning: The max_iter was reached which means the coef_ did not converge\n  \"the coef_ did not converge\", ConvergenceWarning)\n"
     ]
    },
    {
     "name": "stdout",
     "output_type": "stream",
     "text": [
      "CPU times: user 10min 43s, sys: 1min 55s, total: 12min 39s\nWall time: 6min 32s\n"
     ]
    }
   ],
   "source": [
    "%%time\n",
    "clf = LogisticRegression(penalty='l2', n_jobs=-1, solver='sag')\n",
    "clf.fit(mnist_train_X, mnist_train_y.ravel())"
   ]
  },
  {
   "cell_type": "code",
   "execution_count": 7,
   "metadata": {
    "collapsed": false
   },
   "outputs": [
    {
     "name": "stdout",
     "output_type": "stream",
     "text": [
      "Train accuracy score:  0.9280952380952381\nTest accuracy score:  0.9128\n"
     ]
    }
   ],
   "source": [
    "print(\"Train accuracy score: \", clf.score(mnist_train_X, mnist_train_y))\n",
    "print(\"Test accuracy score: \", clf.score(mnist_test_X, mnist_test_y))"
   ]
  },
  {
   "cell_type": "code",
   "execution_count": 8,
   "metadata": {
    "collapsed": false,
    "scrolled": false
   },
   "outputs": [
    {
     "name": "stdout",
     "output_type": "stream",
     "text": [
      "Top 30 Features: \n\n[[341 176 544 339 397 213 271 327 262 298 514 153 681 331 428 127 360 357\n  386 459 275 265 430 207  44 370 240 189 302 629]\n [ 72 594 591 576 541 343 548 340 490 656 162 351 406 379 145 381 521 634\n  613 163 552 489 528 323 636 294 612 350  69 621]\n [567 666 613 622 564 423 558 697 693 473 362  93 454 669 585 451 391 509\n  502 313 696 390 389 361 611 418 501 425 446 474]\n [450 580 520 189 495 708 274 499 443 466 413 147 134 256  89 330 526 303\n  395  92 535 312  96 117 678 145 480 104 676 507]\n [231 691 463 499 490 426 468 254 635 373 379 637 516 694 424 375 638 229\n  596 136 399 417 219 593 191 678 396 513 442 348]\n [371 724 608 192 592 482 681 314 649 273 277 302 276 609 424 248 306 221\n  723 416 331 582 722 305 444 304 334 362 332 333]\n [636 201 398 161  66 601 583 542 610  92  76 544 379  64 440 574 414 522\n  303 662 107 637 484 313  91  78 370  77  79 387]\n [296 496 385 231 366 344 692 174 494 264 750 284 293 777 568 415 651 441\n  266 778 282 171 199 704 311 302 339 775 338 310]\n [622 679 231 355 315 514 691 137 303 665 376 554 195 541 246 359 301 555\n  357 500 286 386 107 278 454 136 284 417 610 332]\n [443 744 742 342 210 746 371 258 316 640 579 751 613 723 358 395 452 119\n  340 748 612 514 677 667 732 735 721 359 620 666]]\n"
     ]
    }
   ],
   "source": [
    "print(\"Top 30 Features: \\n\")\n",
    "print(np.argsort(clf.coef_)[:, -30:])"
   ]
  },
  {
   "cell_type": "code",
   "execution_count": 11,
   "metadata": {
    "collapsed": false
   },
   "outputs": [
    {
     "data": {
      "image/png": "[encoded data removed]",
      "text/plain": [
       "<matplotlib.figure.Figure at 0x125ca7160>"
      ]
     },
     "metadata": {},
     "output_type": "display_data"
    }
   ],
   "source": [
    "indices = np.argsort(clf.coef_)[:, -30:]\n",
    "plt.figure(figsize=((10, 10)))\n",
    "for i in range(1, 10):\n",
    "    img = mnist_train_X[i, :]\n",
    "    \n",
    "    # blk_img = np.zeros((784))\n",
    "    # blk_img[:] = 255\n",
    "    features = indices[i, :]\n",
    "    img[features] = 255\n",
    "    ax = plt.subplot(3, 3, i)\n",
    "    ax.imshow(img.reshape(28, 28), cmap='gray')"
   ]
  },
  {
   "cell_type": "markdown",
   "metadata": {
    "collapsed": false
   },
   "source": [
    "### Decision Tree\n"
   ]
  },
  {
   "cell_type": "code",
   "execution_count": 84,
   "metadata": {
    "collapsed": false
   },
   "outputs": [
    {
     "name": "stdout",
     "output_type": "stream",
     "text": [
      "CPU times: user 21.8 s, sys: 108 ms, total: 21.9 s\n",
      "Wall time: 21.9 s\n"
     ]
    }
   ],
   "source": [
    "%%time\n",
    "mnist_tree = DecisionTreeClassifier()\n",
    "mnist_tree.fit(mnist_train_X, mnist_train_y)"
   ]
  },
  {
   "cell_type": "code",
   "execution_count": 85,
   "metadata": {
    "collapsed": false
   },
   "outputs": [
    {
     "name": "stdout",
     "output_type": "stream",
     "text": [
      "Train accuracy score:  1.0\n"
     ]
    }
   ],
   "source": [
    "print(\"Train accuracy score: \", mnist_tree.score(mnist_train_X, mnist_train_y))"
   ]
  },
  {
   "cell_type": "code",
   "execution_count": 86,
   "metadata": {
    "collapsed": false
   },
   "outputs": [
    {
     "name": "stdout",
     "output_type": "stream",
     "text": [
      "Test accuracy score:  0.866971428571\n"
     ]
    }
   ],
   "source": [
    "print(\"Test accuracy score: \", mnist_tree.score(mnist_test_X, mnist_test_y))"
   ]
  },
  {
   "cell_type": "code",
   "execution_count": 87,
   "metadata": {
    "collapsed": false
   },
   "outputs": [
    {
     "name": "stdout",
     "output_type": "stream",
     "text": [
      "Top 30 Features: \n",
      "\n",
      "[ 95 345 516 348 296 267 297 551 155 101 271 381 655 486 154 354 347 290\n",
      " 156 485  98 405 234 346 211 430 568 350 435 489]\n"
     ]
    }
   ],
   "source": [
    "print('Top 30 Features: \\n')\n",
    "indices = np.argsort(mnist_tree.feature_importances_)\n",
    "print(indices[- 30:])"
   ]
  },
  {
   "cell_type": "code",
   "execution_count": 88,
   "metadata": {
    "collapsed": false
   },
   "outputs": [
    {
     "data": {
      "text/plain": [
       "<matplotlib.image.AxesImage at 0x7f136497c978>"
      ]
     },
     "execution_count": 88,
     "metadata": {},
     "output_type": "execute_result"
    },
    {
     "data": {
      "image/png": "[encoded data removed]",
      "text/plain": [
       "<matplotlib.figure.Figure at 0x7f1365002390>"
      ]
     },
     "metadata": {},
     "output_type": "display_data"
    }
   ],
   "source": [
    "indices = np.argsort(clf.coef_)[:, -50:]\n",
    "blk_img = np.zeros((784))\n",
    "blk_img[:] = 255\n",
    "features = indices[i, :]\n",
    "blk_img[features] = 0\n",
    "plt.imshow(blk_img.reshape(28, 28), cmap='gray')"
   ]
  },
  {
   "cell_type": "markdown",
   "metadata": {},
   "source": [
    "## 20 NEWS GROUP Dataset"
   ]
  },
  {
   "cell_type": "code",
   "execution_count": 40,
   "metadata": {
    "collapsed": true
   },
   "outputs": [],
   "source": [
    "# fetch train and test datasets\n",
    "train_data = fetch_20newsgroups(subset='train')\n",
    "news_group_train_y = train_data['target']\n",
    "test_data = fetch_20newsgroups(subset='test')\n",
    "news_group_test_y = test_data['target']\n",
    "# convert into unigram matrix\n",
    "vectorizer = TfidfVectorizer()\n",
    "news_group_train_X = vectorizer.fit_transform(train_data['data'])\n",
    "news_group_test_X = vectorizer.transform(test_data['data'])\n",
    "# convert into a sparse matrix\n",
    "news_group_train_X = csr_matrix(news_group_train_X)\n",
    "news_group_test_X = csr_matrix(news_group_test_X)"
   ]
  },
  {
   "cell_type": "markdown",
   "metadata": {},
   "source": [
    "Logistic Regression work better on the 20 News Group dataset than Decision Trees. The overfitting is the main problem in Decision Tree since I discovered that the accuracy on training set is very high while the performance on test set is very low, 99% and 55% respectively. Different parameters of Decision Trees (number of leaf nodes, depth of the tree, number of splits) do not have much impact on the performance."
   ]
  },
  {
   "cell_type": "markdown",
   "metadata": {},
   "source": [
    "## Logistic Regression"
   ]
  },
  {
   "cell_type": "code",
   "execution_count": 41,
   "metadata": {
    "collapsed": false
   },
   "outputs": [
    {
     "name": "stdout",
     "output_type": "stream",
     "text": [
      "CPU times: user 7.6 s, sys: 64 ms, total: 7.67 s\n",
      "Wall time: 1.22 s\n"
     ]
    }
   ],
   "source": [
    "%%time\n",
    "nn_clf = LogisticRegression(penalty='l2', n_jobs=-1, solver='sag')\n",
    "nn_clf.fit(news_group_train_X, news_group_train_y.ravel())"
   ]
  },
  {
   "cell_type": "code",
   "execution_count": 42,
   "metadata": {
    "collapsed": false
   },
   "outputs": [
    {
     "name": "stdout",
     "output_type": "stream",
     "text": [
      "Train Accuracy score:  0.969948736079\n"
     ]
    }
   ],
   "source": [
    "print(\"Train Accuracy score: \", nn_clf.score(news_group_train_X, news_group_train_y))"
   ]
  },
  {
   "cell_type": "code",
   "execution_count": 43,
   "metadata": {
    "collapsed": false
   },
   "outputs": [
    {
     "name": "stdout",
     "output_type": "stream",
     "text": [
      "Test Accuracy score:  0.827801380775\n"
     ]
    }
   ],
   "source": [
    "print(\"Test Accuracy score: \", nn_clf.score(news_group_test_X, news_group_test_y))"
   ]
  },
  {
   "cell_type": "code",
   "execution_count": 44,
   "metadata": {
    "collapsed": true
   },
   "outputs": [],
   "source": [
    "vocabulary = {}\n",
    "for k, v in vectorizer.vocabulary_.items():\n",
    "    vocabulary[v] = k"
   ]
  },
  {
   "cell_type": "code",
   "execution_count": 45,
   "metadata": {
    "collapsed": false
   },
   "outputs": [
    {
     "name": "stdout",
     "output_type": "stream",
     "text": [
      "alt.atheism\n",
      "wpd bible gregg ico solntze cobb mantis tek wingate kmr4 osrhe sgi umd religion mangoe benedikt edu is rushdie jaeger livesey god mathew okcforum islam islamic caltech atheists atheism keith \n",
      "\n",
      "\n",
      "comp.graphics\n",
      "looking 24 software code quicktime library 42 surface file algorithm vesa program color gif sphere vga package animation pov 3do format points files cview images tiff polygon 3d image graphics \n",
      "\n",
      "\n",
      "comp.os.ms-windows.misc\n",
      "deskjet problem manager diamond bmp use card program using ftp access microsoft printer fonts font win3 ms ini risc nt win mouse dos cica files drivers driver ax file windows \n",
      "\n",
      "\n",
      "comp.sys.ibm.pc.hardware\n",
      "system boot memory cpu thanks drives board ibm dos help eisa monitors irq floppy isa disk motherboard bios vlb port 486 monitor controller gateway ide bus pc card scsi drive \n",
      "\n",
      "\n",
      "comp.sys.mac.hardware\n",
      "fpu ram problem speed macs internal macintosh clock upgrade 610 vram nubus simm drive adb c650 bmug modem iisi simms monitor lciii lc se powerbook centris duo quadra apple mac \n",
      "\n",
      "\n",
      "comp.windows.x\n",
      "visual program internet client enterpoop colormap xdm imake clients lib r5 color widgets running sun x11 code display xpert expo application xlib lcs x11r5 xterm mit widget server motif window \n",
      "\n",
      "\n",
      "misc.forsale\n",
      "original brand ohio cd hiram obo selling purdue email excellent offers includes trade mail distribution games call new wanted asking interested price condition 00 sell forsale offer shipping for sale \n",
      "\n",
      "\n",
      "rec.autos\n",
      "integra nissan sho qazi convertible road centerline dumbest driving vw unisql saturn warning my boyle wagon com autos honda eliot callison auto automotive toyota ford dealer oil engine cars car \n",
      "\n",
      "\n",
      "rec.motorcycles\n",
      "winona ducati east yamaha ed infante stafford front behanna howland sun harley moa bnr ama honda ranck my com dog rider motorcycles helmet riding ride bmw motorcycle bikes dod bike \n",
      "\n",
      "\n",
      "rec.sport.baseball\n",
      "uniforms nl jays yankees last his win tigers fan hitter jewish stadium games hit mets alomar ball game sox team edu pitching braves runs cubs year players phillies he baseball \n",
      "\n",
      "\n",
      "rec.sport.hockey\n",
      "abc coach montreal toronto flyers penguins games ice rangers devils wings pittsburgh playoffs detroit teams pens he espn cup season go leafs players playoff play ca game team nhl hockey \n",
      "\n",
      "\n",
      "sci.crypt\n",
      "bontchev public tempest intercon na wiretap privacy algorithm netcom encrypted com eff qualcomm code escrow secret cryptography government des tapped crypto security gtoal keys pgp nsa chip encryption key clipper \n",
      "\n",
      "\n",
      "sci.electronics\n",
      "scope receiver uv adcom low hp design babb output 8051 wire phone circuits motorola use ee line current cooling detector radio audio ground amp tv voltage radar power electronics circuit \n",
      "\n",
      "\n",
      "sci.med\n",
      "my yeast eye syndrome zisfein diet med information is of foods science photography patients medicine health she cancer food pain treatment dyer gordon banks geb medical disease pitt doctor msg \n",
      "\n",
      "\n",
      "sci.space\n",
      "higgins mars dietz dseg mccall nsmca sky zoo ti rockets solar flight aurora prb dc access earth spacecraft lunar sci shuttle pat digex alaska henry launch orbit moon nasa space \n",
      "\n",
      "\n",
      "soc.religion.christian\n",
      "jayne sabbath our heaven married scripture fisher resurrection geneva easter faith apr sin petch 1993 catholic of we bible hell jesus clh christianity christian christ athos christians rutgers church god \n",
      "\n",
      "\n",
      "talk.politics.guns\n",
      "dividian law uic colorado survivors gnv handheld ifas ranch amendment firearm cdt government com rights militia handgun weapon nra fire feustel stratus batf atf weapons firearms fbi waco guns gun \n",
      "\n",
      "\n",
      "talk.politics.mideast\n",
      "iran zionism were adam columbia policy adl turks arabs holocaust fourd angmar cpr cosmo jewish soldiers of jake mcgill argic turkey serdar arab armenia armenian armenians jews turkish israeli israel \n",
      "\n",
      "\n",
      "talk.politics.misc\n",
      "of phil ten romulus insurance rutgers writes trial broward drieux hallam to com ipser sexual health isc state jobs clayton br government president gay drugs optilink tax cramer kaldis clinton \n",
      "\n",
      "\n",
      "talk.religion.misc\n",
      "religion thyagi joslin jim tony alicea mitre amdahl beast mormons tyre ch981 you rosicrucian frank kent weiss order of buffalo brian biblical hudson god objective jesus koresh morality sandvik christian \n",
      "\n",
      "\n"
     ]
    }
   ],
   "source": [
    "nn_indices = np.argsort(nn_clf.coef_)[:, -30:]\n",
    "n, d = nn_indices.shape\n",
    "for i in range(n):\n",
    "    str = \"\"\n",
    "    print(train_data.target_names[i])\n",
    "    for j in range(d):\n",
    "        str += vocabulary[nn_indices[i][j]] + \" \"\n",
    "    print(str)\n",
    "    print(\"\\n\")"
   ]
  },
  {
   "cell_type": "markdown",
   "metadata": {
    "collapsed": true
   },
   "source": [
    "### Decision Tree"
   ]
  },
  {
   "cell_type": "code",
   "execution_count": 46,
   "metadata": {
    "collapsed": false
   },
   "outputs": [
    {
     "name": "stdout",
     "output_type": "stream",
     "text": [
      "CPU times: user 25.8 s, sys: 3 µs, total: 25.8 s\n",
      "Wall time: 25.8 s\n"
     ]
    }
   ],
   "source": [
    "%%time\n",
    "nn_tree = DecisionTreeClassifier()\n",
    "nn_tree.fit(news_group_train_X, news_group_train_y)"
   ]
  },
  {
   "cell_type": "code",
   "execution_count": 47,
   "metadata": {
    "collapsed": false
   },
   "outputs": [
    {
     "name": "stdout",
     "output_type": "stream",
     "text": [
      "Train Accuracy score:  0.99991161393\n"
     ]
    }
   ],
   "source": [
    "print(\"Train Accuracy score: \", nn_tree.score(news_group_train_X, news_group_train_y))"
   ]
  },
  {
   "cell_type": "code",
   "execution_count": 48,
   "metadata": {
    "collapsed": false
   },
   "outputs": [
    {
     "name": "stdout",
     "output_type": "stream",
     "text": [
      "Test Accuracy score:  0.554036112586\n"
     ]
    }
   ],
   "source": [
    "print(\"Test Accuracy score: \", nn_tree.score(news_group_test_X, news_group_test_y))"
   ]
  },
  {
   "cell_type": "code",
   "execution_count": 49,
   "metadata": {
    "collapsed": false
   },
   "outputs": [
    {
     "name": "stdout",
     "output_type": "stream",
     "text": [
      "Top 30 Features: \n",
      "\n",
      "disease orbit waco team article controller motif encryption the re atheists rutgers geb window nhl graphics mac bike turkish baseball gun space israel car god hockey windows dod sale clipper \n"
     ]
    }
   ],
   "source": [
    "print('Top 30 Features: \\n')\n",
    "indices = np.argsort(nn_tree.feature_importances_)[-30:]\n",
    "str = \"\"\n",
    "for i in range(30):\n",
    "    str += vocabulary[indices[i]] + \" \" \n",
    "print(str)"
   ]
  },
  {
   "cell_type": "code",
   "execution_count": 53,
   "metadata": {
    "collapsed": false
   },
   "outputs": [
    {
     "name": "stdout",
     "output_type": "stream",
     "text": [
      "Train Accuracy score:  0.293176595369  Test Accuracy score:  0.278146574615\n",
      "Train Accuracy score:  0.61932119498  Test Accuracy score:  0.533191715348\n",
      "Train Accuracy score:  0.882004596076  Test Accuracy score:  0.558682952735\n",
      "Train Accuracy score:  0.99991161393  Test Accuracy score:  0.553372278279\n"
     ]
    }
   ],
   "source": [
    "max_leaf_nodes = [10, 100, 1000, 10000]\n",
    "for l in max_leaf_nodes:\n",
    "    sample_tree = DecisionTreeClassifier(max_leaf_nodes=l)\n",
    "    sample_tree.fit(news_group_train_X, news_group_train_y)\n",
    "    print(\"Max Number of Leafs: \", l,\n",
    "        \"Train Accuracy score: \", sample_tree.score(news_group_train_X, news_group_train_y), \n",
    "          \" Test Accuracy score: \", sample_tree.score(news_group_test_X, news_group_test_y))"
   ]
  },
  {
   "cell_type": "code",
   "execution_count": 57,
   "metadata": {
    "collapsed": false
   },
   "outputs": [
    {
     "name": "stdout",
     "output_type": "stream",
     "text": [
      "Max Number of Leafs:  1000 Train Accuracy score:  0.883683931412  Test Accuracy score:  0.556027615507\n",
      "Max Number of Leafs:  1200 Train Accuracy score:  0.910730068941  Test Accuracy score:  0.5553637812\n",
      "Max Number of Leafs:  1400 Train Accuracy score:  0.931854339756  Test Accuracy score:  0.552708443972\n",
      "Max Number of Leafs:  1600 Train Accuracy score:  0.949973484179  Test Accuracy score:  0.553505045141\n",
      "Max Number of Leafs:  1800 Train Accuracy score:  0.968799717165  Test Accuracy score:  0.552973977695\n",
      "Max Number of Leafs:  2000 Train Accuracy score:  0.985416298391  Test Accuracy score:  0.5553637812\n"
     ]
    }
   ],
   "source": [
    "max_leaf_nodes = [1000, 1200, 1400, 1600, 1800, 2000]\n",
    "for l in max_leaf_nodes:\n",
    "    sample_tree = DecisionTreeClassifier(max_leaf_nodes=l)\n",
    "    sample_tree.fit(news_group_train_X, news_group_train_y)\n",
    "    print(\"Max Number of Leafs: \", l,\n",
    "        \"Train Accuracy score: \", sample_tree.score(news_group_train_X, news_group_train_y), \n",
    "          \" Test Accuracy score: \", sample_tree.score(news_group_test_X, news_group_test_y))"
   ]
  },
  {
   "cell_type": "code",
   "execution_count": 58,
   "metadata": {
    "collapsed": false
   },
   "outputs": [
    {
     "name": "stdout",
     "output_type": "stream",
     "text": [
      "Maximum Depth:  10 Train Accuracy score:  0.344086971893 Test Accuracy score:  0.29965480616\n",
      "Maximum Depth:  100 Train Accuracy score:  0.892345766307 Test Accuracy score:  0.537307488051\n",
      "Maximum Depth:  1000 Train Accuracy score:  0.99991161393 Test Accuracy score:  0.555098247477\n",
      "Maximum Depth:  10000 Train Accuracy score:  0.99991161393 Test Accuracy score:  0.556027615507\n"
     ]
    }
   ],
   "source": [
    "max_depth = [10, 100, 1000, 10000]\n",
    "for d in max_depth:\n",
    "    sample_tree = DecisionTreeClassifier(max_depth=d)\n",
    "    sample_tree.fit(news_group_train_X, news_group_train_y)\n",
    "    print(\"Maximum Depth: \", d,\n",
    "        \"Train Accuracy score: \", sample_tree.score(news_group_train_X, news_group_train_y), \n",
    "          \"Test Accuracy score: \", sample_tree.score(news_group_test_X, news_group_test_y))"
   ]
  },
  {
   "cell_type": "code",
   "execution_count": 60,
   "metadata": {
    "collapsed": false
   },
   "outputs": [
    {
     "name": "stdout",
     "output_type": "stream",
     "text": [
      "Maximum Depth:  200 Train Accuracy score:  0.984885981969 Test Accuracy score:  0.557753584705\n",
      "Maximum Depth:  400 Train Accuracy score:  0.99991161393 Test Accuracy score:  0.554301646309\n",
      "Maximum Depth:  600 Train Accuracy score:  0.99991161393 Test Accuracy score:  0.556691449814\n",
      "Maximum Depth:  800 Train Accuracy score:  0.99991161393 Test Accuracy score:  0.554965480616\n"
     ]
    }
   ],
   "source": [
    "max_depth = [200, 400, 600, 800]\n",
    "for d in max_depth:\n",
    "    sample_tree = DecisionTreeClassifier(max_depth=d)\n",
    "    sample_tree.fit(news_group_train_X, news_group_train_y)\n",
    "    print(\"Maximum Depth: \", d,\n",
    "        \"Train Accuracy score: \", sample_tree.score(news_group_train_X, news_group_train_y), \n",
    "          \"Test Accuracy score: \", sample_tree.score(news_group_test_X, news_group_test_y))"
   ]
  },
  {
   "cell_type": "code",
   "execution_count": 59,
   "metadata": {
    "collapsed": false
   },
   "outputs": [
    {
     "name": "stdout",
     "output_type": "stream",
     "text": [
      "Maximum samples to split:  10 Train Accuracy score:  0.909139119675 Test Accuracy score:  0.553770578864\n",
      "Maximum samples to split:  100 Train Accuracy score:  0.800601025278 Test Accuracy score:  0.572889006904\n",
      "Maximum samples to split:  1000 Train Accuracy score:  0.606681986919 Test Accuracy score:  0.518321826872\n",
      "Maximum samples to split:  10000 Train Accuracy score:  0.173678628248 Test Accuracy score:  0.170339883165\n"
     ]
    }
   ],
   "source": [
    "min_samples_split = [10, 100, 1000, 10000]\n",
    "for s in min_samples_split:\n",
    "    sample_tree = DecisionTreeClassifier(min_samples_split=s)\n",
    "    sample_tree.fit(news_group_train_X, news_group_train_y)\n",
    "    print(\"Maximum samples to split: \", s,\n",
    "        \"Train Accuracy score: \", sample_tree.score(news_group_train_X, news_group_train_y), \n",
    "          \"Test Accuracy score: \", sample_tree.score(news_group_test_X, news_group_test_y))"
   ]
  },
  {
   "cell_type": "code",
   "execution_count": 61,
   "metadata": {
    "collapsed": false
   },
   "outputs": [
    {
     "name": "stdout",
     "output_type": "stream",
     "text": [
      "Maximum samples to split:  20 Train Accuracy score:  0.871751811914 Test Accuracy score:  0.560807222517\n",
      "Maximum samples to split:  40 Train Accuracy score:  0.834187732013 Test Accuracy score:  0.568374933617\n",
      "Maximum samples to split:  60 Train Accuracy score:  0.821548523953 Test Accuracy score:  0.575146043548\n",
      "Maximum samples to split:  80 Train Accuracy score:  0.808290613399 Test Accuracy score:  0.575544344132\n"
     ]
    }
   ],
   "source": [
    "min_samples_split = [20, 40, 60, 80]\n",
    "for s in min_samples_split:\n",
    "    sample_tree = DecisionTreeClassifier(min_samples_split=s)\n",
    "    sample_tree.fit(news_group_train_X, news_group_train_y)\n",
    "    print(\"Maximum samples to split: \", s,\n",
    "        \"Train Accuracy score: \", sample_tree.score(news_group_train_X, news_group_train_y), \n",
    "          \"Test Accuracy score: \", sample_tree.score(news_group_test_X, news_group_test_y))"
   ]
  },
  {
   "cell_type": "markdown",
   "metadata": {},
   "source": [
    "## Spambase Dataset"
   ]
  },
  {
   "cell_type": "code",
   "execution_count": 2,
   "metadata": {
    "collapsed": true
   },
   "outputs": [],
   "source": [
    "data = pd.read_csv('spambase/spambase.data', dtype='float', names=[i for i in range(56)])\n",
    "data = data.values"
   ]
  },
  {
   "cell_type": "code",
   "execution_count": 3,
   "metadata": {
    "collapsed": true
   },
   "outputs": [],
   "source": [
    "spam_data_X = data[:, :54]\n",
    "spam_data_y = data[:, 55]\n",
    "spam_train_X, spam_test_X, spam_train_y, spam_test_y = train_test_split(spam_data_X, spam_data_y)"
   ]
  },
  {
   "cell_type": "markdown",
   "metadata": {},
   "source": [
    "Logistic Regression still works better than Decision Tree on the spambase dataset. LR achieves 92% accuracy rate while DT achieves 90% accuracy."
   ]
  },
  {
   "cell_type": "markdown",
   "metadata": {},
   "source": [
    "### Logistic Regression"
   ]
  },
  {
   "cell_type": "code",
   "execution_count": 4,
   "metadata": {
    "collapsed": false
   },
   "outputs": [
    {
     "name": "stdout",
     "output_type": "stream",
     "text": [
      "CPU times: user 121 ms, sys: 3.8 ms, total: 124 ms\n",
      "Wall time: 123 ms\n"
     ]
    }
   ],
   "source": [
    "%%time\n",
    "spam_clf = LogisticRegression(penalty='l2', n_jobs=-1, solver='liblinear')\n",
    "spam_clf.fit(spam_train_X, spam_train_y.ravel())"
   ]
  },
  {
   "cell_type": "code",
   "execution_count": 6,
   "metadata": {
    "collapsed": false
   },
   "outputs": [
    {
     "name": "stdout",
     "output_type": "stream",
     "text": [
      "Train Accuracy score:  0.931884057971\n"
     ]
    }
   ],
   "source": [
    "print(\"Train Accuracy score: \", spam_clf.score(spam_train_X, spam_train_y))"
   ]
  },
  {
   "cell_type": "code",
   "execution_count": 7,
   "metadata": {
    "collapsed": false
   },
   "outputs": [
    {
     "name": "stdout",
     "output_type": "stream",
     "text": [
      "Test Accuracy score:  0.927888792354\n"
     ]
    }
   ],
   "source": [
    "print(\"Test Accuracy score: \", spam_clf.score(spam_test_X, spam_test_y))"
   ]
  },
  {
   "cell_type": "code",
   "execution_count": 23,
   "metadata": {
    "collapsed": false,
    "scrolled": true
   },
   "outputs": [
    {
     "name": "stdout",
     "output_type": "stream",
     "text": [
      "Top 30 Features: \n",
      "\n",
      "[[52 53 31 29 11  0 16 10  7 34 25 19 15 18 49 21  5  2  6 33 14  3  1 12\n",
      "  17 51 13  4 20 50]]\n"
     ]
    }
   ],
   "source": [
    "print(\"Top 30 Features: \\n\")\n",
    "print(np.argsort(spam_clf.coef_)[:, -30:])"
   ]
  },
  {
   "cell_type": "code",
   "execution_count": 100,
   "metadata": {
    "collapsed": false
   },
   "outputs": [],
   "source": [
    "c = StringIO(\"word_freq_make, word_freq_address,word_freq_all,word_freq_3d,word_freq_our,word_freq_over,word_freq_remove,word_freq_internet,word_freq_order,word_freq_mail,word_freq_receive,word_freq_will,word_freq_people,word_freq_report,word_freq_addresses,word_freq_free,word_freq_business,word_freq_email,word_freq_you,word_freq_credit,word_freq_your,word_freq_font,word_freq_000,word_freq_money,word_freq_hp,word_freq_hpl,word_freq_george,word_freq_650,word_freq_lab,word_freq_labs,word_freq_telnet,word_freq_857,word_freq_data,word_freq_415,word_freq_85,word_freq_technology,word_freq_1999,word_freq_parts,word_freq_pm,word_freq_direct,word_freq_cs,word_freq_meeting,word_freq_original,word_freq_project,word_freq_re,word_freq_edu,word_freq_table,word_freq_conference,char_freq_;,char_freq_(,char_freq_[,char_freq_!,char_freq_$,char_freq_#,capital_run_length_average,capital_run_length_longest,capital_run_length_total\")\n",
    "txt = np.loadtxt(c, dtype=str, delimiter=',')"
   ]
  },
  {
   "cell_type": "code",
   "execution_count": 102,
   "metadata": {
    "collapsed": false
   },
   "outputs": [
    {
     "data": {
      "text/plain": [
       "array([[\"b'char_freq_$'\", \"b'word_freq_receive'\", \"b'char_freq_'\",\n",
       "        \"b'word_freq_85'\", \"b'word_freq_free'\", \"b'word_freq_labs'\",\n",
       "        \"b'word_freq_business'\", \"b'word_freq_technology'\",\n",
       "        \"b'word_freq_internet'\", \"b'word_freq_make'\", \"b'word_freq_you'\",\n",
       "        \"b'word_freq_will'\", \"b'word_freq_credit'\", \"b'word_freq_hpl'\",\n",
       "        \"b'word_freq_font'\", \"b'word_freq_all'\", \"b'char_freq_('\",\n",
       "        \"b'word_freq_over'\", \"b'word_freq_3d'\", \"b'word_freq_people'\",\n",
       "        \"b'word_freq_415'\", \"b' word_freq_address'\", \"b'word_freq_report'\",\n",
       "        \"b'word_freq_addresses'\", \"b'word_freq_remove'\",\n",
       "        \"b'word_freq_email'\", \"b'char_freq_!'\", \"b'word_freq_your'\",\n",
       "        \"b'word_freq_our'\", \"b'char_freq_['\"]], \n",
       "      dtype='<U23')"
      ]
     },
     "execution_count": 102,
     "metadata": {},
     "output_type": "execute_result"
    }
   ],
   "source": [
    "indices = np.argsort(spam_clf.coef_)[:, -30:]\n",
    "txt[indices]"
   ]
  },
  {
   "cell_type": "markdown",
   "metadata": {},
   "source": [
    "### Decision Tree"
   ]
  },
  {
   "cell_type": "code",
   "execution_count": 103,
   "metadata": {
    "collapsed": false,
    "scrolled": true
   },
   "outputs": [
    {
     "name": "stdout",
     "output_type": "stream",
     "text": [
      "CPU times: user 46.4 ms, sys: 4 ms, total: 50.4 ms\n",
      "Wall time: 49.3 ms\n"
     ]
    }
   ],
   "source": [
    "%%time\n",
    "spam_tree = DecisionTreeClassifier()\n",
    "spam_tree.fit(spam_train_X, spam_train_y)"
   ]
  },
  {
   "cell_type": "code",
   "execution_count": 104,
   "metadata": {
    "collapsed": false
   },
   "outputs": [
    {
     "name": "stdout",
     "output_type": "stream",
     "text": [
      "Train Accuracy score:  0.931884057971\n"
     ]
    }
   ],
   "source": [
    "print(\"Train Accuracy score: \", spam_clf.score(spam_train_X, spam_train_y))"
   ]
  },
  {
   "cell_type": "code",
   "execution_count": 105,
   "metadata": {
    "collapsed": false
   },
   "outputs": [
    {
     "name": "stdout",
     "output_type": "stream",
     "text": [
      "Test Accuracy score:  0.90877497828\n"
     ]
    }
   ],
   "source": [
    "print(\"Test Accuracy score: \", spam_tree.score(spam_test_X, spam_test_y))"
   ]
  },
  {
   "cell_type": "code",
   "execution_count": 106,
   "metadata": {
    "collapsed": false
   },
   "outputs": [
    {
     "name": "stdout",
     "output_type": "stream",
     "text": [
      "Top 30 Features: \n",
      "\n",
      "[20 19 47 17 40  7 46  8  3 34 33 21 42  9 15 14  5 39 18 16 53 24 43  2 50\n",
      " 22 13  4 52 49]\n"
     ]
    }
   ],
   "source": [
    "print('Top 30 Features: \\n')\n",
    "print(np.argsort(spam_tree.feature_importances_)[-30:])"
   ]
  },
  {
   "cell_type": "code",
   "execution_count": 107,
   "metadata": {
    "collapsed": false
   },
   "outputs": [
    {
     "data": {
      "text/plain": [
       "array([\"b'word_freq_your'\", \"b'word_freq_credit'\",\n",
       "       \"b'word_freq_conference'\", \"b'word_freq_email'\", \"b'word_freq_cs'\",\n",
       "       \"b'word_freq_internet'\", \"b'word_freq_table'\", \"b'word_freq_order'\",\n",
       "       \"b'word_freq_3d'\", \"b'word_freq_85'\", \"b'word_freq_415'\",\n",
       "       \"b'word_freq_font'\", \"b'word_freq_original'\", \"b'word_freq_mail'\",\n",
       "       \"b'word_freq_free'\", \"b'word_freq_addresses'\", \"b'word_freq_over'\",\n",
       "       \"b'word_freq_direct'\", \"b'word_freq_you'\", \"b'word_freq_business'\",\n",
       "       \"b'char_freq_'\", \"b'word_freq_hp'\", \"b'word_freq_project'\",\n",
       "       \"b'word_freq_all'\", \"b'char_freq_['\", \"b'word_freq_000'\",\n",
       "       \"b'word_freq_report'\", \"b'word_freq_our'\", \"b'char_freq_$'\",\n",
       "       \"b'char_freq_('\"], \n",
       "      dtype='<U23')"
      ]
     },
     "execution_count": 107,
     "metadata": {},
     "output_type": "execute_result"
    }
   ],
   "source": [
    "indices = np.argsort(spam_tree.feature_importances_)[-30:]\n",
    "txt[indices]"
   ]
  }
 ],
 "metadata": {
  "kernelspec": {
   "display_name": "Python 3",
   "language": "python",
   "name": "python3"
  },
  "language_info": {
   "codemirror_mode": {
    "name": "ipython",
    "version": 3
   },
   "file_extension": ".py",
   "mimetype": "text/x-python",
   "name": "python",
   "nbconvert_exporter": "python",
   "pygments_lexer": "ipython3",
   "version": "3.5.1"
  }
 },
 "nbformat": 4,
 "nbformat_minor": 0
}
